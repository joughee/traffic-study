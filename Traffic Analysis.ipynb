{
 "cells": [
  {
   "cell_type": "markdown",
   "metadata": {},
   "source": [
    "<h1>L.A. Intersection Vehicle Count Model</h1>"
   ]
  },
  {
   "cell_type": "markdown",
   "metadata": {},
   "source": [
    "<div>The following is an attempt at predicting the number of vehicles passing through intersections within the city limits of Los Angeles.</div>\n",
    "<div>The model accepts geolocation (lat and long), time of day (hour), and direction of travel (north, south, east or west).</div>\n",
    "<div>There are three parts to this report.\n",
    "<div>&nbsp;&nbsp;&nbsp;- Part 1 is the final analysis. This includes tidying the data, EDA, cross validation, and the final model. The data needed some cleaning, like names of days of the week were inconsistent, etc. The data was stored in a format that required normalization as well. After generating a few visualizations, including animations, the variables with the strongest relaionships were identified. A KNN regression model was found to return the most accurate results, with an R-squared value of about 0.45</div>\n",
    "<div>&nbsp;&nbsp;&nbsp;- Part 2 is a program that collected the majority of the data. The data source is a combination of open data and data gathered by parsing pdf files linked to webpages. The open data set, found <a href='http://geohub.lacity.org/datasets/traffic-data/data' target='_blank'>here</a>, provides the geolocation of the intersection and a url to a web page with links to detailed reports in pdf format (found in the \"NLA_URL\" column). The format of the pdf reports vary depending on the type of counting (manual vs automatic) and the date the report was created, so a specific style was parsed to simplify data extraction. While opportunity exists to gather additional data, the program was able to successfully process about 4,600 pdf files. The program uses various techniques, including performing web requests, saving to a MongoDB database, regular expressions, multi-threading, locking resources, file handling, JSON serialization, using a tabula package to convert pdf files to Pandas dataframes, and timing processes to gather performance metrics.</div>\n",
    "<div>&nbsp;&nbsp;&nbsp;- Part 3 is a slightly different take. This analysis combines multiple data sets in order to predict travel times based on vehicle counts. The motivation here is to understand how many cars would need to be removed from an area during peak times to get travel times closer to non-peak values. Understanding how many cars need to be removed, where, and at what time of day, could greatly help city advisers budget public transportion resources, and optimize those resources. This analysis is still in progress, but there is some nice things happening so please review if possible, including combining multiple data sources, visualizations, geographic visulization, calculations, simple regression</div>"
   ]
  },
  {
   "cell_type": "markdown",
   "metadata": {},
   "source": [
    "<h3>Part 1 - Final Results</h3>"
   ]
  },
  {
   "cell_type": "markdown",
   "metadata": {},
   "source": [
    "<div>Import packages, prepare data. Leaving commented MongoDB code in for review purposes.</div>"
   ]
  },
  {
   "cell_type": "code",
   "execution_count": 1,
   "metadata": {},
   "outputs": [],
   "source": [
    "import pandas as pd\n",
    "import numpy as np\n",
    "#import pymongo\n",
    "import json\n",
    "from sklearn.linear_model import LinearRegression\n",
    "from sklearn.neighbors import KNeighborsRegressor\n",
    "from sklearn.metrics import r2_score\n",
    "import sklearn.model_selection as mod_sel\n",
    "import sklearn.utils as utils\n",
    "import seaborn as sns\n",
    "import matplotlib.pyplot as plt\n",
    "import matplotlib.animation as animation\n",
    "\n",
    "#use json file for Jupyter Lab\n",
    "#client = pymongo.MongoClient()\n",
    "#db = client[\"TrafficData\"]\n",
    "#collection = db[\"IntersectionTrafficVolumes\"]\n",
    "#d = collection.find({})\n",
    "#df = pd.DataFrame(d)\n",
    "with open('InsertsectionTrafficVolumes.json') as f:\n",
    "    j = f.read()\n",
    "d = json.loads(j)\n",
    "df = pd.DataFrame(d)\n"
   ]
  },
  {
   "cell_type": "markdown",
   "metadata": {},
   "source": [
    "<div>This routine plots the intersection with a color map in order to visualize the traffic volumes. Folium was used for it's simple installation. The final result is shown below. Patterns are noticable, indicating geolocation is a relevant variable.</div>"
   ]
  },
  {
   "cell_type": "code",
   "execution_count": null,
   "metadata": {},
   "outputs": [],
   "source": [
    "import folium\n",
    "\n",
    "def set_color_range():\n",
    "    start = 0.65\n",
    "    stop = 0.98\n",
    "    global number_of_lines\n",
    "    number_of_lines = 1000\n",
    "    cm_subsection = np.linspace(start, stop, number_of_lines)\n",
    "    global colors\n",
    "    colors = [plt.cm.jet(x) for x in cm_subsection]\n",
    "\n",
    "def get_color(value):\n",
    "    color_idx = int(round(((value - count_min) / (count_max - count_min)) * (number_of_lines - 1)))\n",
    "    color = colors[color_idx]\n",
    "    return color\n",
    "\n",
    "def dec_to_rgb(rgb_part):\n",
    "    return int(round(rgb_part * 255))\n",
    "\n",
    "def get_circle_color(value):\n",
    "    color = get_color(value)\n",
    "    rgb_color = (dec_to_rgb(color[0]), dec_to_rgb(color[1]), dec_to_rgb(color[2]))\n",
    "    hex_color = '#%02x%02x%02x' % (rgb_color[0], rgb_color[1], rgb_color[2])\n",
    "    return hex_color\n",
    "\n",
    "count_max = df['Total'].max()\n",
    "count_min = df['Total'].min()\n",
    "\n",
    "set_color_range()\n",
    "m = folium.Map(\n",
    "   location=[33.998251,-118.3848547],\n",
    "   tiles='Stamen Toner'\n",
    ")\n",
    "for index, row in df.iterrows():\n",
    "     folium.Circle(\n",
    "        location = [row['Latitude'], row['Longitue']],\n",
    "        radius = 100,\n",
    "        color = get_circle_color(row['Total']),\n",
    "        fill = False).add_to(m2)\n",
    "#m.save('~/traffic_map.html')"
   ]
  },
  {
   "cell_type": "code",
   "execution_count": 19,
   "metadata": {},
   "outputs": [
    {
     "data": {
      "text/html": [
       "<iframe src='traffic_map.html' width='750' height='650'></iframe>\n"
      ],
      "text/plain": [
       "<IPython.core.display.HTML object>"
      ]
     },
     "metadata": {},
     "output_type": "display_data"
    }
   ],
   "source": [
    "%%HTML\n",
    "<iframe src='traffic_map.html' width='750' height='650'></iframe>"
   ]
  },
  {
   "cell_type": "markdown",
   "metadata": {},
   "source": [
    "<div>Try a couple simple models with cross validation, just get a feel for the shape of the data.</div>"
   ]
  },
  {
   "cell_type": "code",
   "execution_count": 14,
   "metadata": {},
   "outputs": [
    {
     "name": "stdout",
     "output_type": "stream",
     "text": [
      "[0.22454576 0.16341088 0.2078951  0.25347482 0.21251564]\n"
     ]
    },
    {
     "data": {
      "text/plain": [
       "0.21236843958015772"
      ]
     },
     "execution_count": 14,
     "metadata": {},
     "output_type": "execute_result"
    }
   ],
   "source": [
    "df[\"Total\"] = df[\"TotalNorthOrWest\"] + df[\"TotalSouthOrEast\"]\n",
    "X = df[['Latitude', 'Longitude']]\n",
    "y = df.Total\n",
    "df = utils.shuffle(df)\n",
    "X_train, X_test, y_train, y_test = mod_sel.train_test_split(X, y, test_size=0.3)\n",
    "knn = KNeighborsRegressor()\n",
    "knn.fit(X_train, y_train)\n",
    "knn.score(X_test, y_test)\n",
    "vals = mod_sel.cross_val_score(knn, X, y, cv=mod_sel.KFold(n_splits=5, shuffle=True))\n",
    "print(vals)\n",
    "np.mean(vals)\n",
    "#~0.21"
   ]
  },
  {
   "cell_type": "markdown",
   "metadata": {},
   "source": [
    "<div>Normalize and clean data.</div>"
   ]
  },
  {
   "cell_type": "code",
   "execution_count": 10,
   "metadata": {},
   "outputs": [],
   "source": [
    "df_dir = pd.json_normalize(d, 'TotalsByTimeOfDay', ['IntersectionId', 'SourceUrl', 'Latitude', 'Longitude', 'Intersection', 'Date', 'DayOfWeek', 'Direction', 'DotDistrict','Weather', 'Counter', 'PreparedBy', 'CounterMode', 'SerialNumber', 'TotalNorthOrWest', 'TotalSouthOrEast'])\n",
    "df_dir[\"Total\"] = df_dir[\"TotalNorthOrWest\"] + df_dir[\"TotalSouthOrEast\"]\n",
    "df_dir['DirectionTotal'] = ''\n",
    "df_dir['TrafficDirection'] = ''\n",
    "df_dir.loc[df_dir.Direction.str.contains('N/S'), 'TrafficDirection'] = 'NORTH'\n",
    "df_dir.loc[df_dir.Direction.str.contains('NORTH'), 'TrafficDirection'] = 'NORTH'\n",
    "df_dir.loc[df_dir.Direction.str.contains('NB'), 'TrafficDirection'] = 'NORTH'\n",
    "df_dir.loc[df_dir.Direction.str.contains('NS STREET'), 'TrafficDirection'] = 'NORTH'\n",
    "df_dir.loc[df_dir.Direction.str.contains('N/B'), 'TrafficDirection'] = 'NORTH'\n",
    "df_dir.loc[df_dir.Direction == 'N/S STREET', 'TrafficDirection'] = 'NORTH'\n",
    "df_dir.loc[df_dir.TrafficDirection == 'NORTH', 'DirectionTotal'] = df_dir.loc[df_dir.TrafficDirection == 'NORTH', 'NorthOrWestTotal']\n",
    "df_dir.loc[df_dir.Direction.str.contains('E/W'), 'TrafficDirection'] = 'EAST'\n",
    "df_dir.loc[df_dir.Direction.str.contains('EAST'), 'TrafficDirection'] = 'EAST'\n",
    "df_dir.loc[df_dir.Direction.str.contains('EB'), 'TrafficDirection'] = 'EAST'\n",
    "df_dir.loc[df_dir.Direction.str.contains('EW STREET'), 'TrafficDirection'] = 'EAST'\n",
    "df_dir.loc[df_dir.Direction.str.contains('E/B'), 'TrafficDirection'] = 'EAST'\n",
    "df_dir.loc[df_dir.Direction.str.contains('E/W STREET'), 'TrafficDirection'] = 'EAST'\n",
    "df_dir.loc[df_dir.TrafficDirection == 'EAST', 'DirectionTotal'] = df_dir.loc[df_dir.TrafficDirection == 'EAST', 'SouthOrEastTotal']\n",
    "df_dir.DayOfWeek.unique()\n",
    "df_dir.loc[df_dir.DayOfWeek.isin(['MON', 'MONDAY ']), 'DayOfWeek'] = 'MONDAY'\n",
    "df_dir.loc[df_dir.DayOfWeek.isin(['TUES', 'TUEDAY', 'TUESADY']), 'DayOfWeek'] = 'TUESDAY'\n",
    "df_dir.loc[df_dir.DayOfWeek == 'WED', 'DayOfWeek'] = 'WEDNESDAY'\n",
    "df_dir.loc[df_dir.DayOfWeek.isin(['THUR', 'THURSADY', 'THUSDAY', 'THURDAY']), 'DayOfWeek'] = 'THURSDAY'\n",
    "df_dir.loc[df_dir.DayOfWeek == 'FRI', 'DayOfWeek'] = 'FRIDAY'\n",
    "df_dir.loc[df_dir.DayOfWeek == 'SAT', 'DayOfWeek'] = 'SATURDAY'\n",
    "df_dir.loc[df_dir.DayOfWeek == 'SUN', 'DayOfWeek'] = 'SUNDAY'\n",
    "df_dir.loc[df_dir.DayOfWeek == 'Day Of Week', ['DayOfWeek']] = 'WEDNESDAY'\n",
    "df_dir.Weather.unique()\n",
    "df_dir.loc[df_dir.Weather.isin(['SUNNNY', 'SUNNY', 'CLAR', 'TUESDAY', 'MONDAY', 'Weather', 'SUNDAY']), 'Weather'] = 'CLEAR'\n",
    "df_dir.loc[df_dir.Weather.isin(['PT CLOUDY', 'COUDY']), 'Weather'] = 'CLOUDY'\n",
    "df_dir.Counter.unique()\n",
    "df_dir.Counter = df_dir.Counter.str.replace('.', ' ')\n",
    "df_dir.Counter = df_dir.Counter.str.replace('/', '-')\n",
    "df_dir.DotDistrict.unique()\n",
    "df_dir.DotDistrict = df_dir.Counter.str.replace('.', ' ')\n",
    "df_dir.DotDistrict = df_dir.Counter.str.replace('/', '-')\n",
    "df_dir = df_dir.astype({'Time': 'category', 'IntersectionId': 'int64', 'Latitude': 'float', 'Longitude': 'float',\n",
    "                'SourceUrl': 'string', 'Intersection': 'string', 'Date': 'string', 'Direction': 'category',\n",
    "                'DotDistrict': 'category', 'PreparedBy': 'string', 'CounterMode': 'string', 'Counter': 'category',\n",
    "                'SerialNumber': 'string', 'TotalNorthOrWest': 'int64', 'TotalSouthOrEast': 'int64',\n",
    "                'DirectionTotal': 'int64', 'TrafficDirection': 'string'})\n",
    "df_dir_copy = df_dir.copy()\n",
    "df_dir_copy.loc[df_dir_copy.TrafficDirection == 'NORTH', 'TrafficDirection'] = 'SOUTH'\n",
    "df_dir_copy.loc[df_dir_copy.TrafficDirection == 'SOUTH', 'DirectionTotal'] = df_dir_copy.loc[df_dir_copy.TrafficDirection == 'SOUTH', 'SouthOrEastTotal']\n",
    "df_dir_copy.loc[df_dir_copy.TrafficDirection == 'EAST', 'TrafficDirection'] = 'WEST'\n",
    "df_dir_copy.loc[df_dir_copy.TrafficDirection == 'WEST', 'DirectionTotal'] = df_dir_copy.loc[df_dir_copy.TrafficDirection == 'WEST', 'NorthOrWestTotal']\n",
    "df_dir = df_dir.append(df_dir_copy)\n",
    "df_dir.reset_index(drop = True, inplace = True)\n",
    "df_dir = df_dir.astype({'TrafficDirection': 'category', 'DayOfWeek': 'category', 'Weather': 'category'})\n",
    "df_dir_copy = None"
   ]
  },
  {
   "cell_type": "markdown",
   "metadata": {},
   "source": [
    "<div>Show change (in percentage) by time of day</div>"
   ]
  },
  {
   "cell_type": "code",
   "execution_count": 3,
   "metadata": {},
   "outputs": [
    {
     "data": {
      "text/plain": [
       "<matplotlib.axes._subplots.AxesSubplot at 0x146f4fe8>"
      ]
     },
     "execution_count": 3,
     "metadata": {},
     "output_type": "execute_result"
    },
    {
     "data": {
      "image/png": "[encoded data removed]",
      "text/plain": [
       "<Figure size 432x288 with 1 Axes>"
      ]
     },
     "metadata": {
      "needs_background": "light"
     },
     "output_type": "display_data"
    }
   ],
   "source": [
    "df_dir[\"PercentOfTotal\"] = df_dir[\"DirectionTotal\"] / df_dir[\"Total\"]\n",
    "times = ['1 AM','2 AM','3 AM','4 AM','5 AM','6 AM','7 AM','8 AM','9 AM','10 AM','11 AM','12 NN','1 PM','2 PM','3 PM','4 PM','5 PM','6 PM','7 PM','8 PM','9 PM','10 PM','11 PM','12 PM']\n",
    "sns.boxplot(x = 'Time', y = 'PercentOfTotal', order = times, data = df_dir)\n"
   ]
  },
  {
   "cell_type": "markdown",
   "metadata": {},
   "source": [
    "<div>This is the code that was used to generate the animation below. A few lines are commented out but the final result is displayed below. The animation shows traffic volumes in the western direction changing with time.</div>"
   ]
  },
  {
   "cell_type": "code",
   "execution_count": 22,
   "metadata": {},
   "outputs": [],
   "source": [
    "#fig = plt.figure()\n",
    "#ax = plt.axes()\n",
    "points = ax.scatter(df_dir.loc[(df_dir.TrafficDirection == \"WEST\") & (df_dir.Time == \"1 AM\")][\"Longitude\"],\n",
    "                    df_dir.loc[(df_dir.TrafficDirection == \"WEST\") & (df_dir.Time == \"1 AM\")][\"Latitude\"],\n",
    "                    c = df_dir.loc[(df_dir.TrafficDirection == \"WEST\") & (df_dir.Time == \"1 AM\")][\"DirectionTotal\"])\n",
    "def animate_west(i):\n",
    "    time = times[i]\n",
    "    points.set_offsets(df_dir.loc[(df_dir.TrafficDirection == \"WEST\") & (df_dir.Time == \"1 AM\"), [\"Longitude\", \"Latitude\"]])\n",
    "    points.set_array(df_dir.loc[(df_dir.TrafficDirection == \"WEST\") & (df_dir.Time == time)][\"DirectionTotal\"])\n",
    "    return points,\n",
    "#anim = animation.FuncAnimation(fig, animate_west, frames=23, interval=1000, blit=True)\n",
    "#not saving here, just displaying final result.\n",
    "#anim.save('Traffic West Animation.mp4', fps=1, extra_args=['-vcodec', 'libx264'])"
   ]
  },
  {
   "cell_type": "code",
   "execution_count": 23,
   "metadata": {},
   "outputs": [
    {
     "data": {
      "text/html": [
       "<video controls src=\"Traffic West Animation.mp4\"/>\n"
      ],
      "text/plain": [
       "<IPython.core.display.HTML object>"
      ]
     },
     "metadata": {},
     "output_type": "display_data"
    }
   ],
   "source": [
    "%%HTML\n",
    "<video controls src=\"Traffic West Animation.mp4\"/>"
   ]
  },
  {
   "cell_type": "markdown",
   "metadata": {},
   "source": [
    "<div>This animation was created the same way, except it shows traffic flow in the eastern direction thoughout the day. There are differences in the east and west animations, indicating direction and time are variables that should be included in the model.</div>"
   ]
  },
  {
   "cell_type": "code",
   "execution_count": 24,
   "metadata": {},
   "outputs": [
    {
     "data": {
      "text/html": [
       "<video controls src=\"../Traffic East Animation.mp4\" />\n"
      ],
      "text/plain": [
       "<IPython.core.display.HTML object>"
      ]
     },
     "metadata": {},
     "output_type": "display_data"
    }
   ],
   "source": [
    "%%HTML\n",
    "<video controls src=\"../Traffic East Animation.mp4\" />"
   ]
  },
  {
   "cell_type": "markdown",
   "metadata": {},
   "source": [
    "<div>KNN regression using continuous variables lat, long, and categorical variables time of day and direction.</div>"
   ]
  },
  {
   "cell_type": "code",
   "execution_count": 5,
   "metadata": {},
   "outputs": [
    {
     "data": {
      "text/plain": [
       "0.4427261061767843"
      ]
     },
     "execution_count": 5,
     "metadata": {},
     "output_type": "execute_result"
    }
   ],
   "source": [
    "df_dir_time = df_dir[['Time','Latitude', 'Longitude', 'DirectionTotal', 'TrafficDirection']]\n",
    "df_dir_time = utils.shuffle(df_dir_time)\n",
    "df_dir_time_model = pd.get_dummies(df_dir_time, prefix = '', prefix_sep = '')\n",
    "X = df_dir_time_model.drop('DirectionTotal', axis = 1)\n",
    "y = df_dir_time_model.DirectionTotal\n",
    "X_train, X_test, y_train, y_test = mod_sel.train_test_split(X, y, test_size=0.3)\n",
    "knn = KNeighborsRegressor()\n",
    "knn.fit(X_train, y_train)\n",
    "knn.score(X_test, y_test)\n",
    "#0.44502615723744554"
   ]
  },
  {
   "cell_type": "markdown",
   "metadata": {},
   "source": [
    "<div>By adding time and direction to our model, the r-squared has increased by over 100%.</div>"
   ]
  },
  {
   "cell_type": "markdown",
   "metadata": {},
   "source": [
    "<h3>Part 2 - Pdf scraper</h3>"
   ]
  },
  {
   "cell_type": "markdown",
   "metadata": {},
   "source": [
    "<div>Here is the program that was used to get the data for the analysis in Part 1. It loops though a dataset using Python's ThreadPoolExecutor to run asyncronously. While it isn't a true multi-threaded progam, it does perform many tasks that benefit from asycronous operation, such as Http requests and writing and reading files. Tests showed an average of 60% reduction in run time due to running asyncronously. One example of a page it uses can be found <a href='http://navigatela.lacity.org/navigatela/reports/dot_traffic_data_report.cfm?trafficid=240' target='_blank'>here</a>. If you click a few of the links, you'll the reports come in a few different formats. Files in a format like <a href='http://navigatela.lacity.org/navigatela/reports/dot_traffic_data_report.cfm?trafficid=240' target='_blank'>this</a> seemed both abundant, and from a time period the could still be considered relevant since most were created within the last ten years. Also, urls from the \"Manual Counts\" section were not targeted, only automatic counts were used because the data and format was much more consistent. The PyPDF4 module is used to read the pdf file's text to determine whether it's in the correct format. If a report in the correct format was found, an IntersectionTrafficVolume object is instantiated and hydrated by searching the pdf text for relavant values, as well as using a tabula module to convert the pdf file to a Pandas dataframe and gather the traffic volumes by time and direction. The object is then converted to a dictionary and stored in a MongoDB database. A global variable that tracks how many records were created, and timing how long it took to complete were used to determine performance of the program. The count variable required locking in order to be accurate.</div>"
   ]
  },
  {
   "cell_type": "code",
   "execution_count": null,
   "metadata": {},
   "outputs": [],
   "source": [
    "import re\n",
    "import pandas as pd\n",
    "import pymongo\n",
    "import PyPDF4\n",
    "import tabula\n",
    "import requests\n",
    "import time\n",
    "import concurrent.futures\n",
    "import threading\n",
    "\n",
    "class IntersectionTrafficVolume:\n",
    "    def __int__(self):\n",
    "        self.IntersectionId = None\n",
    "        self.Intersection = None\n",
    "        self.SourceUrl = None\n",
    "        self.Location = None\n",
    "        self.Latitude = None\n",
    "        self.Longitude = None\n",
    "        self.Date = None\n",
    "        self.DayOfWeek = None\n",
    "        self.Direction = None\n",
    "        self.DotDistrict = None\n",
    "        self.Weather = None\n",
    "        self.Counter = None\n",
    "        self.PreparedBy = None\n",
    "        self.CounterMode = None\n",
    "        self.SerialNumber = None\n",
    "        self.Total = None\n",
    "        self.TotalNorthOrWest = None\n",
    "        self.TotalSouthOrEast = None\n",
    "        self.TotalsByTimeOfDay = None\n",
    "\n",
    "class TrafficVolumeByTime:\n",
    "    def __int__(self):\n",
    "        self.Time = None\n",
    "        self.NorthOrWestTotal = None\n",
    "        self.SouthOrEastTotal = None\n",
    "\n",
    "class pdfScraper:\n",
    "    def __int__(self):\n",
    "        self.RowData = None\n",
    "        self.RowNum = None\n",
    "        self.UrlHtml = None\n",
    "        self.PdfUrls = None\n",
    "        self.PdfTexts = None\n",
    "        self.Report = None\n",
    "\n",
    "    def scrape(self):\n",
    "        response = requests.get(self.RowData.NLA_URL)\n",
    "        if (hasattr(response, 'text') and response.text.find('Automatic Count (PDF)') > 0):\n",
    "            self.UrlHtml = response.text\n",
    "            self.PdfUrls = self.get_pdf_urls()\n",
    "            if (len(self.PdfUrls) > 0):\n",
    "                self.get_pdfs()\n",
    "                if (len(self.PdfTexts) > 0):\n",
    "                    self.processPdfs()\n",
    "\n",
    "    def get_pdf_urls(self):\n",
    "        # try to get only automatic reports\n",
    "        start = self.UrlHtml.index('Automatic Count (PDF)')\n",
    "        stop = self.UrlHtml.index('Manual Count (PDF)') if start < self.UrlHtml.index('Manual Count (PDF)') else len(self.UrlHtml)\n",
    "        searchText = ''\n",
    "        if (start < stop):\n",
    "            searchText = self.UrlHtml[start:stop]\n",
    "        else:\n",
    "            searchText = self.UrlHtml[start:]\n",
    "        urls = re.findall(r'href=[\\'\"]?([^\\'\">]+)', searchText)\n",
    "        return urls\n",
    "\n",
    "    def get_pdfs(self):\n",
    "        texts = []\n",
    "        docIdx = 0\n",
    "        for pdfUrl in self.PdfUrls:\n",
    "            try:\n",
    "                pdfResp = requests.get(pdfUrl, stream=True)\n",
    "                text = self.get_pdf_text(pdfResp.content, docIdx)\n",
    "                if (text.find('NORTHBOUND or WESTBOUND') >= 0):\n",
    "                    texts.append([text, docIdx])\n",
    "            except Exception as e:\n",
    "                print(\"Error getting pdf stream at \" + pdfUrl)\n",
    "                print(e)\n",
    "            finally:\n",
    "                docIdx = docIdx + 1\n",
    "        self.PdfTexts = texts\n",
    "\n",
    "    def get_pdf_text(self, stream, ct):\n",
    "        pageText = \"\";\n",
    "        with open(\"traffic_\" + str(self.RowData.IntersectionID) + \"_\" + str(ct) + \".pdf\", 'wb') as f:\n",
    "            f.write(stream)\n",
    "            pdfFileObj = open(\"traffic_\" + str(self.RowData.IntersectionID) + \"_\" + str(ct) + \".pdf\", 'rb')\n",
    "            reader = PyPDF4.PdfFileReader(pdfFileObj)\n",
    "            page = reader.getPage(0)\n",
    "            pageText = page.extractText()\n",
    "        return pageText\n",
    "\n",
    "    def processPdfs(self):\n",
    "        for pdfText in self.PdfTexts:\n",
    "            docText = pdfText[0]\n",
    "            docIndex = pdfText[1]\n",
    "            self.Report = IntersectionTrafficVolume()\n",
    "            self.Report.IntersectionId = int(self.RowData.IntersectionID)\n",
    "            self.Report.SourceUrl = self.RowData.NLA_URL\n",
    "            self.Report.Latitude = self.RowData.lat\n",
    "            self.Report.Longitude = self.RowData.lon\n",
    "            self.Report.Intersection = self.get_value_from_pdf_text(docText, \"Location\\n\", \"\\n\")\n",
    "            self.Report.Date = self.get_value_from_pdf_text(docText, \"Date\\n\", \"\\n\")\n",
    "            self.Report.DayOfWeek = self.get_value_from_pdf_text(docText, \"Day of Week\\n\", \"\\n\")\n",
    "            self.Report.Direction = self.get_value_from_pdf_text(docText, \"Direction\\n\", \"\\n\")\n",
    "            self.Report.DotDistrict = self.get_value_from_pdf_text(docText, \"DOT District\\n\", \"\\n\")\n",
    "            self.Report.Weather = self.get_value_from_pdf_text(docText, \"Weather\\n\", \"\\n\")\n",
    "            self.Report.Counter = self.get_value_from_pdf_text(docText, \"Counter\\n\", \"\\n\")\n",
    "            self.Report.PreparedBy = self.get_value_from_pdf_text(docText, \"By\\n\", \"\\n\")\n",
    "            self.Report.CounterMode = self.get_value_from_pdf_text(docText, \"Counter Mode\\n\", \"\\n\")\n",
    "            self.Report.SerialNumber = self.get_value_from_pdf_text(docText, \"Serial Number\\n\", \"\\n\")\n",
    "            try:\n",
    "                print(\"Try getting time records for \" + str(self.RowNum))\n",
    "                volumeByTimeReports = self.build_volume_by_time_reports(docIndex)\n",
    "                self.Report.TotalsByTimeOfDay = volumeByTimeReports[0]\n",
    "                self.Report.TotalNorthOrWest = volumeByTimeReports[1]\n",
    "                self.Report.TotalSouthOrEast = volumeByTimeReports[2]\n",
    "            except Exception as e:\n",
    "                print(\"Error occurred getting time records for \" + str(self.RowNum) + \". Error: \")\n",
    "                print(e)\n",
    "            self.save_report()\n",
    "            with lock:\n",
    "                global reportCount\n",
    "                reportCount += 1        \n",
    "\n",
    "    def get_value_from_pdf_text(self, strng, label, stopVal):\n",
    "        start = strng.find(label) + len(label)\n",
    "        if (start >= 0):\n",
    "            stop = strng[start:].find(stopVal)\n",
    "            return strng[start:start + stop]\n",
    "        else:\n",
    "            return None\n",
    "\n",
    "    def build_volume_by_time_reports(self, docIndex):\n",
    "        reports = []\n",
    "        nwTotal = 0\n",
    "        seTotal = 0\n",
    "        pdf_df = tabula.read_pdf(\"traffic_\" + str(self.RowData.IntersectionID) + \"_\" + str(docIndex) + \".pdf\", pages=1)\n",
    "        for index, timeRow in pdf_df[0].iloc[2:].iterrows():\n",
    "            volume = TrafficVolumeByTime()\n",
    "            volume.Time = timeRow.iloc[0]\n",
    "            nw = timeRow.iloc[2].split(' ')\n",
    "            if (len(nw) > 0):\n",
    "                if (nw[-1].isdigit()):\n",
    "                    nwRowTot = int(nw[-1])\n",
    "                    volume.NorthOrWestTotal = nwRowTot\n",
    "                    nwTotal += nwRowTot\n",
    "            se = timeRow.iloc[4].split(' ')\n",
    "            if (len(se) > 0):\n",
    "                if (se[-1].isdigit()):\n",
    "                    seRowTot = int(se[-1])\n",
    "                    volume.SouthOrEastTotal = seRowTot\n",
    "                    seTotal += seRowTot\n",
    "            reports.append(volume)\n",
    "        return [reports, nwTotal, seTotal]\n",
    "\n",
    "    def save_report(self):\n",
    "        dict = vars(self.Report)\n",
    "        volDict = []\n",
    "        for vol in self.Report.TotalsByTimeOfDay:\n",
    "            volDict.append(vars(vol))\n",
    "        dict[\"TotalsByTimeOfDay\"] = volDict\n",
    "        collection.insert_one(dict)\n",
    "\n",
    "def process_intersection_row(row):\n",
    "    scraper = pdfScraper()\n",
    "    scraper.RowNum = row[0]\n",
    "    scraper.RowData = row[1]\n",
    "    print(\"Row num \" + str(scraper.RowNum))\n",
    "    scraper.scrape()\n",
    "\n",
    "if __name__ == \"__main__\":\n",
    "    client = pymongo.MongoClient()\n",
    "    #I know it seems redundant to have \"Data\" in the name of a database\n",
    "    db = client[\"TrafficData\"]\n",
    "    collection = db[\"IntersectionTrafficVolumes_oo\"]\n",
    "\n",
    "    df = pd.read_csv(\"C:/Users/Joe/Documents/Machine Learning/Traffic_Data_Geoloc_tidy.csv\")\n",
    "    start = time.time()\n",
    "    lock = threading.Lock()\n",
    "    reportCount = 0\n",
    "    with concurrent.futures.ThreadPoolExecutor(max_workers=4) as executor:\n",
    "        executor.map(process_intersection_row, df.iloc[:100].iterrows())\n",
    "    end = time.time()\n",
    "    print(end - start)\n",
    "    print(\"Reports count: \" + (str(reportCount)))\n",
    "\n",
    "\n",
    "\n"
   ]
  }
 ],
 "metadata": {
  "kernelspec": {
   "display_name": "Python 3",
   "language": "python",
   "name": "python3"
  },
  "language_info": {
   "codemirror_mode": {
    "name": "ipython",
    "version": 3
   },
   "file_extension": ".py",
   "mimetype": "text/x-python",
   "name": "python",
   "nbconvert_exporter": "python",
   "pygments_lexer": "ipython3",
   "version": "3.8.1"
  }
 },
 "nbformat": 4,
 "nbformat_minor": 4
}
