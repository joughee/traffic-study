{
 "cells": [
  {
   "cell_type": "markdown",
   "metadata": {},
   "source": [
    "<h1>L.A. Intersection Vehicle Count Model</h1>"
   ]
  },
  {
   "cell_type": "markdown",
   "metadata": {},
   "source": [
    "<p>The following is an attempt at predicting the number of vehicles passing through intersections within the city limits of Los Angeles.</p>\n",
    "<p>The model accepts geolocation (lat and long), time of day (hour), and direction of travel (north, south, east or west).</p>\n",
    "<p>There are two parts to this report. Part 1 is the final analysis. It's shown first because it illustrates the final model, which is the main purpose of this notebook. Part 2 fosuses on how the data was gathered, which is important and interesting, but is more of an exercise in software engineering than data analysis.\n",
    "<p>&nbsp;&nbsp;&nbsp;- Part 1 includes tidying the data, EDA, cross validation, and the final model. The data needed some cleaning, like names of days of the week were inconsistent, etc. The data was stored in a format that required normalization as well. After generating a few visualizations, including animations, the variables with the strongest relaionships were identified. A KNN regression model was found to return the most accurate results, with an R-squared value of about 0.45</p>\n",
    "<p>&nbsp;&nbsp;&nbsp;- Part 2 is a program that collected the majority of the data. The data source is a combination of open data and data gathered by parsing pdf files linked to webpages. The open data set, found <a href='http://geohub.lacity.org/datasets/traffic-data/data' target='_blank'>here</a>, provides the geolocation of the intersection and a url to a web page with links to detailed reports in pdf format (found in the \"NLA_URL\" column). The format of the pdf reports vary depending on the type of counting (manual vs automatic) and the date the report was created, so a specific style was parsed to simplify data extraction. While opportunity exists to gather additional data, the program was able to successfully process about 4,600 pdf files. The program uses various techniques, including performing web requests, saving to a MongoDB database, regular expressions, multi-threading, locking resources, file handling, JSON serialization, using a tabula package to convert pdf files to Pandas dataframes, and timing processes to gather performance metrics.</p>"
   ]
  },
  {
   "cell_type": "markdown",
   "metadata": {},
   "source": [
    "<h2>Part 1 - Data Analysis</h2>"
   ]
  },
  {
   "cell_type": "markdown",
   "metadata": {},
   "source": [
    "<h3>Import Packages and Data</h3>"
   ]
  },
  {
   "cell_type": "markdown",
   "metadata": {},
   "source": [
    "<div>The data is imported from a JSON file. Originally, a MongoDB database was used to store the data, the commented code is left in for later usage.</div>"
   ]
  },
  {
   "cell_type": "code",
   "execution_count": 3,
   "metadata": {},
   "outputs": [
    {
     "data": {
      "text/html": [
       "<div>\n",
       "<style scoped>\n",
       "    .dataframe tbody tr th:only-of-type {\n",
       "        vertical-align: middle;\n",
       "    }\n",
       "\n",
       "    .dataframe tbody tr th {\n",
       "        vertical-align: top;\n",
       "    }\n",
       "\n",
       "    .dataframe thead th {\n",
       "        text-align: right;\n",
       "    }\n",
       "</style>\n",
       "<table border=\"1\" class=\"dataframe\">\n",
       "  <thead>\n",
       "    <tr style=\"text-align: right;\">\n",
       "      <th></th>\n",
       "      <th>IntersectionId</th>\n",
       "      <th>SourceUrl</th>\n",
       "      <th>Latitude</th>\n",
       "      <th>Longitude</th>\n",
       "      <th>Intersection</th>\n",
       "      <th>Date</th>\n",
       "      <th>DayOfWeek</th>\n",
       "      <th>Direction</th>\n",
       "      <th>DotDistrict</th>\n",
       "      <th>Weather</th>\n",
       "      <th>Counter</th>\n",
       "      <th>PreparedBy</th>\n",
       "      <th>CounterMode</th>\n",
       "      <th>SerialNumber</th>\n",
       "      <th>TotalsByTimeOfDay</th>\n",
       "      <th>TotalNorthOrWest</th>\n",
       "      <th>TotalSouthOrEast</th>\n",
       "    </tr>\n",
       "  </thead>\n",
       "  <tbody>\n",
       "    <tr>\n",
       "      <th>0</th>\n",
       "      <td>13431</td>\n",
       "      <td>http://navigatela.lacity.org/navigatela/report...</td>\n",
       "      <td>34.07819</td>\n",
       "      <td>-118.36478</td>\n",
       "      <td>LAUREL AV AT OAKWOOD AV</td>\n",
       "      <td>11/19/09</td>\n",
       "      <td>THURSDAY</td>\n",
       "      <td>N/S STREET</td>\n",
       "      <td>HW</td>\n",
       "      <td>CLEAR</td>\n",
       "      <td>ARMANDO</td>\n",
       "      <td>0</td>\n",
       "      <td>Classifier</td>\n",
       "      <td>RD97600  D</td>\n",
       "      <td>[{'Time': '12 AM', 'NorthOrWestTotal': 4, 'Sou...</td>\n",
       "      <td>824</td>\n",
       "      <td>601</td>\n",
       "    </tr>\n",
       "    <tr>\n",
       "      <th>1</th>\n",
       "      <td>13428</td>\n",
       "      <td>http://navigatela.lacity.org/navigatela/report...</td>\n",
       "      <td>34.07821</td>\n",
       "      <td>-118.36144</td>\n",
       "      <td>FAIRFAX AV AT OAKWOOD AV</td>\n",
       "      <td>08/11/09</td>\n",
       "      <td>TUESDAY</td>\n",
       "      <td>N/S STREET</td>\n",
       "      <td>HW</td>\n",
       "      <td>CLEAR</td>\n",
       "      <td>ARMANDO</td>\n",
       "      <td>9</td>\n",
       "      <td>Classifier</td>\n",
       "      <td>RD97589  D</td>\n",
       "      <td>[{'Time': '12 AM', 'NorthOrWestTotal': 314, 'S...</td>\n",
       "      <td>18783</td>\n",
       "      <td>17601</td>\n",
       "    </tr>\n",
       "    <tr>\n",
       "      <th>2</th>\n",
       "      <td>13460</td>\n",
       "      <td>http://navigatela.lacity.org/navigatela/report...</td>\n",
       "      <td>34.07528</td>\n",
       "      <td>-118.38164</td>\n",
       "      <td>GRACIE ALLEN DR AT GEORGE BURNS RD</td>\n",
       "      <td>02/03/10</td>\n",
       "      <td>WEDNESDAY</td>\n",
       "      <td>E/W STREET</td>\n",
       "      <td>HW</td>\n",
       "      <td>SUNNY</td>\n",
       "      <td>HUGO/LAVEDI</td>\n",
       "      <td>TY OF LOS ANGELES</td>\n",
       "      <td>Classifier</td>\n",
       "      <td>RD97558  D</td>\n",
       "      <td>[{'Time': '12 AM', 'NorthOrWestTotal': 37, 'So...</td>\n",
       "      <td>3799</td>\n",
       "      <td>4726</td>\n",
       "    </tr>\n",
       "    <tr>\n",
       "      <th>3</th>\n",
       "      <td>13531</td>\n",
       "      <td>http://navigatela.lacity.org/navigatela/report...</td>\n",
       "      <td>34.06368</td>\n",
       "      <td>-118.44534</td>\n",
       "      <td>WESTWOOD BL N/O LE CONTE AV</td>\n",
       "      <td>03/10/10</td>\n",
       "      <td>WEDNESDAY</td>\n",
       "      <td>N/S STREET</td>\n",
       "      <td>WESTERN</td>\n",
       "      <td>SUNNNY</td>\n",
       "      <td>HUGO/LAVEDI</td>\n",
       "      <td>TY OF LOS ANGELES</td>\n",
       "      <td>Classifier</td>\n",
       "      <td>RD97546  D</td>\n",
       "      <td>[{'Time': '12 AM', 'NorthOrWestTotal': 70, 'So...</td>\n",
       "      <td>10718</td>\n",
       "      <td>8496</td>\n",
       "    </tr>\n",
       "    <tr>\n",
       "      <th>4</th>\n",
       "      <td>13460</td>\n",
       "      <td>http://navigatela.lacity.org/navigatela/report...</td>\n",
       "      <td>34.07528</td>\n",
       "      <td>-118.38164</td>\n",
       "      <td>GEORGE BURNS RD AT GRACIE ALLEN DR</td>\n",
       "      <td>02/03/10</td>\n",
       "      <td>WEDNESDAY</td>\n",
       "      <td>N/S STREET</td>\n",
       "      <td>HW</td>\n",
       "      <td>SUNNY</td>\n",
       "      <td>HUGO/LAVEDI</td>\n",
       "      <td>TY OF LOS ANGELES</td>\n",
       "      <td>Classifier</td>\n",
       "      <td>RD97584  D</td>\n",
       "      <td>[{'Time': '12 AM', 'NorthOrWestTotal': 53, 'So...</td>\n",
       "      <td>6839</td>\n",
       "      <td>7515</td>\n",
       "    </tr>\n",
       "  </tbody>\n",
       "</table>\n",
       "</div>"
      ],
      "text/plain": [
       "   IntersectionId                                          SourceUrl  \\\n",
       "0           13431  http://navigatela.lacity.org/navigatela/report...   \n",
       "1           13428  http://navigatela.lacity.org/navigatela/report...   \n",
       "2           13460  http://navigatela.lacity.org/navigatela/report...   \n",
       "3           13531  http://navigatela.lacity.org/navigatela/report...   \n",
       "4           13460  http://navigatela.lacity.org/navigatela/report...   \n",
       "\n",
       "   Latitude  Longitude                        Intersection      Date  \\\n",
       "0  34.07819 -118.36478             LAUREL AV AT OAKWOOD AV  11/19/09   \n",
       "1  34.07821 -118.36144            FAIRFAX AV AT OAKWOOD AV  08/11/09   \n",
       "2  34.07528 -118.38164  GRACIE ALLEN DR AT GEORGE BURNS RD  02/03/10   \n",
       "3  34.06368 -118.44534         WESTWOOD BL N/O LE CONTE AV  03/10/10   \n",
       "4  34.07528 -118.38164  GEORGE BURNS RD AT GRACIE ALLEN DR  02/03/10   \n",
       "\n",
       "   DayOfWeek   Direction DotDistrict Weather      Counter         PreparedBy  \\\n",
       "0   THURSDAY  N/S STREET          HW   CLEAR      ARMANDO                  0   \n",
       "1    TUESDAY  N/S STREET          HW   CLEAR      ARMANDO                  9   \n",
       "2  WEDNESDAY  E/W STREET          HW   SUNNY  HUGO/LAVEDI  TY OF LOS ANGELES   \n",
       "3  WEDNESDAY  N/S STREET     WESTERN  SUNNNY  HUGO/LAVEDI  TY OF LOS ANGELES   \n",
       "4  WEDNESDAY  N/S STREET          HW   SUNNY  HUGO/LAVEDI  TY OF LOS ANGELES   \n",
       "\n",
       "  CounterMode SerialNumber                                  TotalsByTimeOfDay  \\\n",
       "0  Classifier   RD97600  D  [{'Time': '12 AM', 'NorthOrWestTotal': 4, 'Sou...   \n",
       "1  Classifier   RD97589  D  [{'Time': '12 AM', 'NorthOrWestTotal': 314, 'S...   \n",
       "2  Classifier   RD97558  D  [{'Time': '12 AM', 'NorthOrWestTotal': 37, 'So...   \n",
       "3  Classifier   RD97546  D  [{'Time': '12 AM', 'NorthOrWestTotal': 70, 'So...   \n",
       "4  Classifier   RD97584  D  [{'Time': '12 AM', 'NorthOrWestTotal': 53, 'So...   \n",
       "\n",
       "   TotalNorthOrWest  TotalSouthOrEast  \n",
       "0               824               601  \n",
       "1             18783             17601  \n",
       "2              3799              4726  \n",
       "3             10718              8496  \n",
       "4              6839              7515  "
      ]
     },
     "execution_count": 3,
     "metadata": {},
     "output_type": "execute_result"
    }
   ],
   "source": [
    "import pandas as pd\n",
    "import numpy as np\n",
    "#import pymongo\n",
    "import json\n",
    "from sklearn.linear_model import LinearRegression\n",
    "from sklearn.neighbors import KNeighborsRegressor\n",
    "from sklearn.metrics import r2_score\n",
    "import sklearn.model_selection as mod_sel\n",
    "import sklearn.utils as utils\n",
    "import seaborn as sns\n",
    "import matplotlib.pyplot as plt\n",
    "import matplotlib.animation as animation\n",
    "\n",
    "#use json file for Jupyter Lab\n",
    "#client = pymongo.MongoClient()\n",
    "#db = client[\"TrafficData\"]\n",
    "#collection = db[\"IntersectionTrafficVolumes\"]\n",
    "#d = collection.find({})\n",
    "#df = pd.DataFrame(d)\n",
    "with open('InsertsectionTrafficVolumes.json') as f:\n",
    "    j = f.read()\n",
    "d = json.loads(j)\n",
    "df = pd.DataFrame(d)\n",
    "df.head()"
   ]
  },
  {
   "cell_type": "markdown",
   "metadata": {},
   "source": [
    "<div>Try a simple model with cross validation to get a feel for the shape of the data.</div>"
   ]
  },
  {
   "cell_type": "code",
   "execution_count": 14,
   "metadata": {},
   "outputs": [
    {
     "name": "stdout",
     "output_type": "stream",
     "text": [
      "[0.22454576 0.16341088 0.2078951  0.25347482 0.21251564]\n"
     ]
    },
    {
     "data": {
      "text/plain": [
       "0.21236843958015772"
      ]
     },
     "execution_count": 14,
     "metadata": {},
     "output_type": "execute_result"
    }
   ],
   "source": [
    "df[\"Total\"] = df[\"TotalNorthOrWest\"] + df[\"TotalSouthOrEast\"]\n",
    "X = df[['Latitude', 'Longitude']]\n",
    "y = df.Total\n",
    "df = utils.shuffle(df)\n",
    "X_train, X_test, y_train, y_test = mod_sel.train_test_split(X, y, test_size=0.3)\n",
    "knn = KNeighborsRegressor()\n",
    "knn.fit(X_train, y_train)\n",
    "knn.score(X_test, y_test)\n",
    "vals = mod_sel.cross_val_score(knn, X, y, cv=mod_sel.KFold(n_splits=5, shuffle=True))\n",
    "print(vals)\n",
    "np.mean(vals)\n",
    "#~0.21"
   ]
  },
  {
   "cell_type": "markdown",
   "metadata": {},
   "source": [
    "<h3>Tidying Data</h3>"
   ]
  },
  {
   "cell_type": "markdown",
   "metadata": {},
   "source": [
    "<div>The TotalsByTimeOfDay column is an array of of objects containing an hour of the day, a count of vehicles in the North or West direction, and a count of vehicles in the South or East direction. So normalize the data so these values are in their own columns and data it tidy.</div>"
   ]
  },
  {
   "cell_type": "code",
   "execution_count": 5,
   "metadata": {},
   "outputs": [
    {
     "data": {
      "text/html": [
       "<div>\n",
       "<style scoped>\n",
       "    .dataframe tbody tr th:only-of-type {\n",
       "        vertical-align: middle;\n",
       "    }\n",
       "\n",
       "    .dataframe tbody tr th {\n",
       "        vertical-align: top;\n",
       "    }\n",
       "\n",
       "    .dataframe thead th {\n",
       "        text-align: right;\n",
       "    }\n",
       "</style>\n",
       "<table border=\"1\" class=\"dataframe\">\n",
       "  <thead>\n",
       "    <tr style=\"text-align: right;\">\n",
       "      <th></th>\n",
       "      <th>Time</th>\n",
       "      <th>NorthOrWestTotal</th>\n",
       "      <th>SouthOrEastTotal</th>\n",
       "      <th>IntersectionId</th>\n",
       "      <th>SourceUrl</th>\n",
       "      <th>Latitude</th>\n",
       "      <th>Longitude</th>\n",
       "      <th>Intersection</th>\n",
       "      <th>Date</th>\n",
       "      <th>DayOfWeek</th>\n",
       "      <th>Direction</th>\n",
       "      <th>DotDistrict</th>\n",
       "      <th>Weather</th>\n",
       "      <th>Counter</th>\n",
       "      <th>PreparedBy</th>\n",
       "      <th>CounterMode</th>\n",
       "      <th>SerialNumber</th>\n",
       "      <th>TotalNorthOrWest</th>\n",
       "      <th>TotalSouthOrEast</th>\n",
       "    </tr>\n",
       "  </thead>\n",
       "  <tbody>\n",
       "    <tr>\n",
       "      <th>0</th>\n",
       "      <td>12 AM</td>\n",
       "      <td>4</td>\n",
       "      <td>5</td>\n",
       "      <td>13431</td>\n",
       "      <td>http://navigatela.lacity.org/navigatela/report...</td>\n",
       "      <td>34.0782</td>\n",
       "      <td>-118.365</td>\n",
       "      <td>LAUREL AV AT OAKWOOD AV</td>\n",
       "      <td>11/19/09</td>\n",
       "      <td>THURSDAY</td>\n",
       "      <td>N/S STREET</td>\n",
       "      <td>HW</td>\n",
       "      <td>CLEAR</td>\n",
       "      <td>ARMANDO</td>\n",
       "      <td>0</td>\n",
       "      <td>Classifier</td>\n",
       "      <td>RD97600  D</td>\n",
       "      <td>824</td>\n",
       "      <td>601</td>\n",
       "    </tr>\n",
       "    <tr>\n",
       "      <th>1</th>\n",
       "      <td>1 AM</td>\n",
       "      <td>7</td>\n",
       "      <td>4</td>\n",
       "      <td>13431</td>\n",
       "      <td>http://navigatela.lacity.org/navigatela/report...</td>\n",
       "      <td>34.0782</td>\n",
       "      <td>-118.365</td>\n",
       "      <td>LAUREL AV AT OAKWOOD AV</td>\n",
       "      <td>11/19/09</td>\n",
       "      <td>THURSDAY</td>\n",
       "      <td>N/S STREET</td>\n",
       "      <td>HW</td>\n",
       "      <td>CLEAR</td>\n",
       "      <td>ARMANDO</td>\n",
       "      <td>0</td>\n",
       "      <td>Classifier</td>\n",
       "      <td>RD97600  D</td>\n",
       "      <td>824</td>\n",
       "      <td>601</td>\n",
       "    </tr>\n",
       "    <tr>\n",
       "      <th>2</th>\n",
       "      <td>2 AM</td>\n",
       "      <td>3</td>\n",
       "      <td>1</td>\n",
       "      <td>13431</td>\n",
       "      <td>http://navigatela.lacity.org/navigatela/report...</td>\n",
       "      <td>34.0782</td>\n",
       "      <td>-118.365</td>\n",
       "      <td>LAUREL AV AT OAKWOOD AV</td>\n",
       "      <td>11/19/09</td>\n",
       "      <td>THURSDAY</td>\n",
       "      <td>N/S STREET</td>\n",
       "      <td>HW</td>\n",
       "      <td>CLEAR</td>\n",
       "      <td>ARMANDO</td>\n",
       "      <td>0</td>\n",
       "      <td>Classifier</td>\n",
       "      <td>RD97600  D</td>\n",
       "      <td>824</td>\n",
       "      <td>601</td>\n",
       "    </tr>\n",
       "    <tr>\n",
       "      <th>3</th>\n",
       "      <td>3 AM</td>\n",
       "      <td>1</td>\n",
       "      <td>0</td>\n",
       "      <td>13431</td>\n",
       "      <td>http://navigatela.lacity.org/navigatela/report...</td>\n",
       "      <td>34.0782</td>\n",
       "      <td>-118.365</td>\n",
       "      <td>LAUREL AV AT OAKWOOD AV</td>\n",
       "      <td>11/19/09</td>\n",
       "      <td>THURSDAY</td>\n",
       "      <td>N/S STREET</td>\n",
       "      <td>HW</td>\n",
       "      <td>CLEAR</td>\n",
       "      <td>ARMANDO</td>\n",
       "      <td>0</td>\n",
       "      <td>Classifier</td>\n",
       "      <td>RD97600  D</td>\n",
       "      <td>824</td>\n",
       "      <td>601</td>\n",
       "    </tr>\n",
       "    <tr>\n",
       "      <th>4</th>\n",
       "      <td>4 AM</td>\n",
       "      <td>0</td>\n",
       "      <td>2</td>\n",
       "      <td>13431</td>\n",
       "      <td>http://navigatela.lacity.org/navigatela/report...</td>\n",
       "      <td>34.0782</td>\n",
       "      <td>-118.365</td>\n",
       "      <td>LAUREL AV AT OAKWOOD AV</td>\n",
       "      <td>11/19/09</td>\n",
       "      <td>THURSDAY</td>\n",
       "      <td>N/S STREET</td>\n",
       "      <td>HW</td>\n",
       "      <td>CLEAR</td>\n",
       "      <td>ARMANDO</td>\n",
       "      <td>0</td>\n",
       "      <td>Classifier</td>\n",
       "      <td>RD97600  D</td>\n",
       "      <td>824</td>\n",
       "      <td>601</td>\n",
       "    </tr>\n",
       "  </tbody>\n",
       "</table>\n",
       "</div>"
      ],
      "text/plain": [
       "    Time  NorthOrWestTotal  SouthOrEastTotal IntersectionId  \\\n",
       "0  12 AM                 4                 5          13431   \n",
       "1   1 AM                 7                 4          13431   \n",
       "2   2 AM                 3                 1          13431   \n",
       "3   3 AM                 1                 0          13431   \n",
       "4   4 AM                 0                 2          13431   \n",
       "\n",
       "                                           SourceUrl Latitude Longitude  \\\n",
       "0  http://navigatela.lacity.org/navigatela/report...  34.0782  -118.365   \n",
       "1  http://navigatela.lacity.org/navigatela/report...  34.0782  -118.365   \n",
       "2  http://navigatela.lacity.org/navigatela/report...  34.0782  -118.365   \n",
       "3  http://navigatela.lacity.org/navigatela/report...  34.0782  -118.365   \n",
       "4  http://navigatela.lacity.org/navigatela/report...  34.0782  -118.365   \n",
       "\n",
       "              Intersection      Date DayOfWeek   Direction DotDistrict  \\\n",
       "0  LAUREL AV AT OAKWOOD AV  11/19/09  THURSDAY  N/S STREET          HW   \n",
       "1  LAUREL AV AT OAKWOOD AV  11/19/09  THURSDAY  N/S STREET          HW   \n",
       "2  LAUREL AV AT OAKWOOD AV  11/19/09  THURSDAY  N/S STREET          HW   \n",
       "3  LAUREL AV AT OAKWOOD AV  11/19/09  THURSDAY  N/S STREET          HW   \n",
       "4  LAUREL AV AT OAKWOOD AV  11/19/09  THURSDAY  N/S STREET          HW   \n",
       "\n",
       "  Weather  Counter PreparedBy CounterMode SerialNumber TotalNorthOrWest  \\\n",
       "0   CLEAR  ARMANDO          0  Classifier   RD97600  D              824   \n",
       "1   CLEAR  ARMANDO          0  Classifier   RD97600  D              824   \n",
       "2   CLEAR  ARMANDO          0  Classifier   RD97600  D              824   \n",
       "3   CLEAR  ARMANDO          0  Classifier   RD97600  D              824   \n",
       "4   CLEAR  ARMANDO          0  Classifier   RD97600  D              824   \n",
       "\n",
       "  TotalSouthOrEast  \n",
       "0              601  \n",
       "1              601  \n",
       "2              601  \n",
       "3              601  \n",
       "4              601  "
      ]
     },
     "execution_count": 5,
     "metadata": {},
     "output_type": "execute_result"
    }
   ],
   "source": [
    "df_dir = pd.json_normalize(d, 'TotalsByTimeOfDay', ['IntersectionId', 'SourceUrl', 'Latitude', 'Longitude', 'Intersection', 'Date', 'DayOfWeek', 'Direction', 'DotDistrict','Weather', 'Counter', 'PreparedBy', 'CounterMode', 'SerialNumber', 'TotalNorthOrWest', 'TotalSouthOrEast'])\n",
    "df_dir.head()"
   ]
  },
  {
   "cell_type": "markdown",
   "metadata": {},
   "source": [
    "<h3>Cleaning Data</h3>"
   ]
  },
  {
   "cell_type": "markdown",
   "metadata": {},
   "source": [
    "<div>The value of NorthOrWestTotal and SouthOrEastTotal depends on whether the street runs north and south or east and west. This was the format the data was found in, so we'll have to transform it slightly. We'll use the Direction column to determine which direction the street runs and set a new value TrafficDirection to either \"North\" or \"East\", later we'll copy the dataframe and set values for \"South\" and \"West\". The Direction values are inconsistent since they were likely input by hand, so we'll need to search for the different values. For example \"N/S\", \"NB\", and \"NS STREET\" are all various forms of \"North\". The same inconsistency issues exist for the DayOfWeek and Weather columns, so we'll clean them up too. The Counter and DotDistrict columns contain forward slashes and periods, which caused issues when converting to categorical data types, so replace with spaces and dashes, respectively.</div>"
   ]
  },
  {
   "cell_type": "code",
   "execution_count": 6,
   "metadata": {},
   "outputs": [
    {
     "data": {
      "text/plain": [
       "array(['N/S STREET', 'E/W STREET', 'E/W STREET  east jog ',\n",
       "       'E/W STREET  W/B ONE WAY STREET', 'E/W STREET    RT LANE ONLY',\n",
       "       'E/W STREET  1-WAY ONLY', 'N/S STREET  1-WAY ONLY',\n",
       "       'E/W STREET 1-WAY ONLY', 'E/W STREET   1-WAY ONLY',\n",
       "       'E/W STREET    1-WAY ONLY', 'E/W STREET ', 'N/S STREET  south leg',\n",
       "       'N/S STREET   north leg', 'N/S STREET   south leg',\n",
       "       'N/S STREET   1-WAY ONLY', 'E/W STREET  at Driveway',\n",
       "       'N/S STREET   1 WAY ONLY', 'N/S STREET ',\n",
       "       'E/W STREET   1 WAY ONLY', 'E/W STREET  1 WAY ONLY',\n",
       "       'N/S STREET  1- WAY ONLY', 'N/B STREET ONE WAY', 'EW STREET',\n",
       "       'N/S STREET  1-WAYONLY', 'E/WSTREET', 'N/S STREET DRIVEWAY',\n",
       "       'N/S Street', 'N/S STREET 1-WAY ONLY', 'NORTH/SOUTH STREET',\n",
       "       'E/W STREET  1-WAY ONLY ', 'N/S STREET   NORTH LEG',\n",
       "       'N/S STREET   SOUTH LEG', 'E/W STREET   NEAR CLARKSON',\n",
       "       'N/S STREET   NEAR CLARKSON', 'E/W STREET  1-WAY',\n",
       "       'N/S STREET  S/B DEPARTURE', 'N/S STREET  north leg',\n",
       "       'E/W STREET  LANE 1', 'NS STREET', 'NB&LT ONLY', 'N/B',\n",
       "       'N/S STREET  SB OFF RAMP', 'N/S STREET  SOUTH BOUND',\n",
       "       'N/S STREET  '], dtype=object)"
      ]
     },
     "execution_count": 6,
     "metadata": {},
     "output_type": "execute_result"
    }
   ],
   "source": [
    "df_dir.Direction.unique()"
   ]
  },
  {
   "cell_type": "code",
   "execution_count": 10,
   "metadata": {},
   "outputs": [],
   "source": [
    "df_dir[\"Total\"] = df_dir[\"TotalNorthOrWest\"] + df_dir[\"TotalSouthOrEast\"]\n",
    "df_dir['TrafficDirection'] = ''\n",
    "df_dir['DirectionTotal'] = ''\n",
    "df_dir.loc[df_dir.Direction.str.contains('N/S'), 'TrafficDirection'] = 'NORTH'\n",
    "df_dir.loc[df_dir.Direction.str.contains('NORTH'), 'TrafficDirection'] = 'NORTH'\n",
    "df_dir.loc[df_dir.Direction.str.contains('NB'), 'TrafficDirection'] = 'NORTH'\n",
    "df_dir.loc[df_dir.Direction.str.contains('NS STREET'), 'TrafficDirection'] = 'NORTH'\n",
    "df_dir.loc[df_dir.Direction.str.contains('N/B'), 'TrafficDirection'] = 'NORTH'\n",
    "df_dir.loc[df_dir.Direction == 'N/S STREET', 'TrafficDirection'] = 'NORTH'\n",
    "df_dir.loc[df_dir.TrafficDirection == 'NORTH', 'DirectionTotal'] = df_dir.loc[df_dir.TrafficDirection == 'NORTH', 'NorthOrWestTotal']\n",
    "df_dir.loc[df_dir.Direction.str.contains('E/W'), 'TrafficDirection'] = 'EAST'\n",
    "df_dir.loc[df_dir.Direction.str.contains('EAST'), 'TrafficDirection'] = 'EAST'\n",
    "df_dir.loc[df_dir.Direction.str.contains('EB'), 'TrafficDirection'] = 'EAST'\n",
    "df_dir.loc[df_dir.Direction.str.contains('EW STREET'), 'TrafficDirection'] = 'EAST'\n",
    "df_dir.loc[df_dir.Direction.str.contains('E/B'), 'TrafficDirection'] = 'EAST'\n",
    "df_dir.loc[df_dir.Direction.str.contains('E/W STREET'), 'TrafficDirection'] = 'EAST'\n",
    "df_dir.loc[df_dir.TrafficDirection == 'EAST', 'DirectionTotal'] = df_dir.loc[df_dir.TrafficDirection == 'EAST', 'SouthOrEastTotal']\n",
    "df_dir.DayOfWeek.unique()\n",
    "df_dir.loc[df_dir.DayOfWeek.isin(['MON', 'MONDAY ']), 'DayOfWeek'] = 'MONDAY'\n",
    "df_dir.loc[df_dir.DayOfWeek.isin(['TUES', 'TUEDAY', 'TUESADY']), 'DayOfWeek'] = 'TUESDAY'\n",
    "df_dir.loc[df_dir.DayOfWeek == 'WED', 'DayOfWeek'] = 'WEDNESDAY'\n",
    "df_dir.loc[df_dir.DayOfWeek.isin(['THUR', 'THURSADY', 'THUSDAY', 'THURDAY']), 'DayOfWeek'] = 'THURSDAY'\n",
    "df_dir.loc[df_dir.DayOfWeek == 'FRI', 'DayOfWeek'] = 'FRIDAY'\n",
    "df_dir.loc[df_dir.DayOfWeek == 'SAT', 'DayOfWeek'] = 'SATURDAY'\n",
    "df_dir.loc[df_dir.DayOfWeek == 'SUN', 'DayOfWeek'] = 'SUNDAY'\n",
    "df_dir.loc[df_dir.DayOfWeek == 'Day Of Week', ['DayOfWeek']] = 'WEDNESDAY'\n",
    "df_dir.Weather.unique()\n",
    "df_dir.loc[df_dir.Weather.isin(['SUNNNY', 'SUNNY', 'CLAR', 'TUESDAY', 'MONDAY', 'Weather', 'SUNDAY']), 'Weather'] = 'CLEAR'\n",
    "df_dir.loc[df_dir.Weather.isin(['PT CLOUDY', 'COUDY']), 'Weather'] = 'CLOUDY'\n",
    "df_dir.Counter.unique()\n",
    "df_dir.Counter = df_dir.Counter.str.replace('.', ' ')\n",
    "df_dir.Counter = df_dir.Counter.str.replace('/', '-')\n",
    "df_dir.DotDistrict.unique()\n",
    "df_dir.DotDistrict = df_dir.Counter.str.replace('.', ' ')\n",
    "df_dir.DotDistrict = df_dir.Counter.str.replace('/', '-')\n",
    "df_dir = df_dir.astype({'Time': 'category', 'IntersectionId': 'int64', 'Latitude': 'float', 'Longitude': 'float',\n",
    "                'SourceUrl': 'string', 'Intersection': 'string', 'Date': 'string', 'Direction': 'category',\n",
    "                'DotDistrict': 'category', 'PreparedBy': 'string', 'CounterMode': 'string', 'Counter': 'category',\n",
    "                'SerialNumber': 'string', 'TotalNorthOrWest': 'int64', 'TotalSouthOrEast': 'int64',\n",
    "                'DirectionTotal': 'int64', 'TrafficDirection': 'string'})"
   ]
  },
  {
   "cell_type": "markdown",
   "metadata": {},
   "source": [
    "<div>Now that the data is clean and tidy, copy the dateframe and set values for South and West. So for all of the rows where TrafficDirection is North in the original frame, set to South and set DirectionTotal to the SouthOrEastTotal value. Repeat for West values. Then set the copy to None in order to free up memory.</div>"
   ]
  },
  {
   "cell_type": "code",
   "execution_count": 11,
   "metadata": {},
   "outputs": [],
   "source": [
    "df_dir_copy = df_dir.copy()\n",
    "df_dir_copy.loc[df_dir_copy.TrafficDirection == 'NORTH', 'TrafficDirection'] = 'SOUTH'\n",
    "df_dir_copy.loc[df_dir_copy.TrafficDirection == 'SOUTH', 'DirectionTotal'] = df_dir_copy.loc[df_dir_copy.TrafficDirection == 'SOUTH', 'SouthOrEastTotal']\n",
    "df_dir_copy.loc[df_dir_copy.TrafficDirection == 'EAST', 'TrafficDirection'] = 'WEST'\n",
    "df_dir_copy.loc[df_dir_copy.TrafficDirection == 'WEST', 'DirectionTotal'] = df_dir_copy.loc[df_dir_copy.TrafficDirection == 'WEST', 'NorthOrWestTotal']\n",
    "df_dir = df_dir.append(df_dir_copy)\n",
    "df_dir.reset_index(drop = True, inplace = True)\n",
    "df_dir = df_dir.astype({'TrafficDirection': 'category', 'DayOfWeek': 'category', 'Weather': 'category'})\n",
    "df_dir_copy = None"
   ]
  },
  {
   "cell_type": "markdown",
   "metadata": {},
   "source": [
    "<h3>Visualize Data</h3>"
   ]
  },
  {
   "cell_type": "markdown",
   "metadata": {},
   "source": [
    "<div>This routine plots the intersection with a color map in order to visualize the traffic volumes. Folium was used for it's simple installation. The final result is shown below. Patterns are noticable, indicating geolocation is a relevant variable.</div>"
   ]
  },
  {
   "cell_type": "code",
   "execution_count": null,
   "metadata": {},
   "outputs": [],
   "source": [
    "import folium\n",
    "\n",
    "def set_color_range():\n",
    "    start = 0.65\n",
    "    stop = 0.98\n",
    "    global number_of_lines\n",
    "    number_of_lines = 1000\n",
    "    cm_subsection = np.linspace(start, stop, number_of_lines)\n",
    "    global colors\n",
    "    colors = [plt.cm.jet(x) for x in cm_subsection]\n",
    "\n",
    "def get_color(value):\n",
    "    color_idx = int(round(((value - count_min) / (count_max - count_min)) * (number_of_lines - 1)))\n",
    "    color = colors[color_idx]\n",
    "    return color\n",
    "\n",
    "def dec_to_rgb(rgb_part):\n",
    "    return int(round(rgb_part * 255))\n",
    "\n",
    "def get_circle_color(value):\n",
    "    color = get_color(value)\n",
    "    rgb_color = (dec_to_rgb(color[0]), dec_to_rgb(color[1]), dec_to_rgb(color[2]))\n",
    "    hex_color = '#%02x%02x%02x' % (rgb_color[0], rgb_color[1], rgb_color[2])\n",
    "    return hex_color\n",
    "\n",
    "count_max = df['Total'].max()\n",
    "count_min = df['Total'].min()\n",
    "\n",
    "set_color_range()\n",
    "m = folium.Map(\n",
    "   location=[33.998251,-118.3848547],\n",
    "   tiles='Stamen Toner'\n",
    ")\n",
    "for index, row in df.iterrows():\n",
    "     folium.Circle(\n",
    "        location = [row['Latitude'], row['Longitue']],\n",
    "        radius = 100,\n",
    "        color = get_circle_color(row['Total']),\n",
    "        fill = False).add_to(m2)\n",
    "#m.save('~/traffic_map.html')"
   ]
  },
  {
   "cell_type": "code",
   "execution_count": 2,
   "metadata": {},
   "outputs": [
    {
     "data": {
      "text/html": [
       "<iframe src='traffic_map.html' width='750' height='650'></iframe>\n"
      ],
      "text/plain": [
       "<IPython.core.display.HTML object>"
      ]
     },
     "metadata": {},
     "output_type": "display_data"
    }
   ],
   "source": [
    "%%HTML\n",
    "<iframe src='traffic_map.html' width='750' height='650'></iframe>"
   ]
  },
  {
   "cell_type": "markdown",
   "metadata": {},
   "source": [
    "<div>Show change (in percentage) by time of day</div>"
   ]
  },
  {
   "cell_type": "code",
   "execution_count": 14,
   "metadata": {},
   "outputs": [
    {
     "data": {
      "text/plain": [
       "<matplotlib.axes._subplots.AxesSubplot at 0x1a316ac0>"
      ]
     },
     "execution_count": 14,
     "metadata": {},
     "output_type": "execute_result"
    },
    {
     "data": {
      "image/png": "[encoded data removed]",
      "text/plain": [
       "<Figure size 936x648 with 1 Axes>"
      ]
     },
     "metadata": {},
     "output_type": "display_data"
    }
   ],
   "source": [
    "df_dir[\"PercentOfTotal\"] = df_dir[\"DirectionTotal\"] / df_dir[\"Total\"]\n",
    "times = ['1 AM','2 AM','3 AM','4 AM','5 AM','6 AM','7 AM','8 AM','9 AM','10 AM','11 AM','12 NN','1 PM','2 PM','3 PM','4 PM','5 PM','6 PM','7 PM','8 PM','9 PM','10 PM','11 PM','12 PM']\n",
    "sns.set(rc={'figure.figsize':(13,9)})\n",
    "sns.boxplot(x = 'Time', y = 'PercentOfTotal', order = times, data = df_dir)\n"
   ]
  },
  {
   "cell_type": "markdown",
   "metadata": {},
   "source": [
    "<div>This is the code that was used to generate the Traffic West Animation.mp4 animation. The animation shows traffic volumes in the western direction changing with time. It may not render below but is included in the repository. The last few commented lines are left for later usage.</div>"
   ]
  },
  {
   "cell_type": "code",
   "execution_count": 22,
   "metadata": {},
   "outputs": [],
   "source": [
    "#fig = plt.figure()\n",
    "#ax = plt.axes()\n",
    "points = ax.scatter(df_dir.loc[(df_dir.TrafficDirection == \"WEST\") & (df_dir.Time == \"1 AM\")][\"Longitude\"],\n",
    "                    df_dir.loc[(df_dir.TrafficDirection == \"WEST\") & (df_dir.Time == \"1 AM\")][\"Latitude\"],\n",
    "                    c = df_dir.loc[(df_dir.TrafficDirection == \"WEST\") & (df_dir.Time == \"1 AM\")][\"DirectionTotal\"])\n",
    "def animate_west(i):\n",
    "    time = times[i]\n",
    "    points.set_offsets(df_dir.loc[(df_dir.TrafficDirection == \"WEST\") & (df_dir.Time == \"1 AM\"), [\"Longitude\", \"Latitude\"]])\n",
    "    points.set_array(df_dir.loc[(df_dir.TrafficDirection == \"WEST\") & (df_dir.Time == time)][\"DirectionTotal\"])\n",
    "    return points,\n",
    "#anim = animation.FuncAnimation(fig, animate_west, frames=23, interval=1000, blit=True)\n",
    "#not saving here, just displaying final result.\n",
    "#anim.save('Traffic West Animation.mp4', fps=1, extra_args=['-vcodec', 'libx264'])"
   ]
  },
  {
   "cell_type": "code",
   "execution_count": 3,
   "metadata": {},
   "outputs": [
    {
     "data": {
      "text/html": [
       "<video controls src=\"Traffic West Animation.mp4\"/>\n"
      ],
      "text/plain": [
       "<IPython.core.display.HTML object>"
      ]
     },
     "metadata": {},
     "output_type": "display_data"
    }
   ],
   "source": [
    "%%HTML\n",
    "<video controls src=\"Traffic West Animation.mp4\"/>"
   ]
  },
  {
   "cell_type": "markdown",
   "metadata": {},
   "source": [
    "<div>The Traffic East Animation.mp4 animation was created the same way, except it shows traffic flow in the eastern direction changing by time of day. There are differences in the east and west animations, indicating direction and time are variables that should be included in the model.</div>"
   ]
  },
  {
   "cell_type": "code",
   "execution_count": 4,
   "metadata": {},
   "outputs": [
    {
     "data": {
      "text/html": [
       "<video controls src=\"../Traffic East Animation.mp4\" />\n"
      ],
      "text/plain": [
       "<IPython.core.display.HTML object>"
      ]
     },
     "metadata": {},
     "output_type": "display_data"
    }
   ],
   "source": [
    "%%HTML\n",
    "<video controls src=\"../Traffic East Animation.mp4\" />"
   ]
  },
  {
   "cell_type": "markdown",
   "metadata": {},
   "source": [
    "<h3>Modeling</h3>"
   ]
  },
  {
   "cell_type": "markdown",
   "metadata": {},
   "source": [
    "<div>KNN regression using continuous variables lat, long, and categorical variables time of day and direction. We'll convert categorical variables to dummy variables using the get_dummies method.</div>"
   ]
  },
  {
   "cell_type": "code",
   "execution_count": 5,
   "metadata": {},
   "outputs": [
    {
     "data": {
      "text/plain": [
       "0.4427261061767843"
      ]
     },
     "execution_count": 5,
     "metadata": {},
     "output_type": "execute_result"
    }
   ],
   "source": [
    "df_dir_time = df_dir[['Time','Latitude', 'Longitude', 'DirectionTotal', 'TrafficDirection']]\n",
    "df_dir_time = utils.shuffle(df_dir_time)\n",
    "df_dir_time_model = pd.get_dummies(df_dir_time, prefix = '', prefix_sep = '')\n",
    "X = df_dir_time_model.drop('DirectionTotal', axis = 1)\n",
    "y = df_dir_time_model.DirectionTotal\n",
    "X_train, X_test, y_train, y_test = mod_sel.train_test_split(X, y, test_size=0.3)\n",
    "knn = KNeighborsRegressor()\n",
    "knn.fit(X_train, y_train)\n",
    "knn.score(X_test, y_test)\n",
    "#0.44502615723744554"
   ]
  },
  {
   "cell_type": "markdown",
   "metadata": {},
   "source": [
    "<div>By adding time and direction to our model, the r-squared has increased by over 100%.</div>"
   ]
  },
  {
   "cell_type": "markdown",
   "metadata": {},
   "source": [
    "<h3>Part 2 - Pdf Scraper</h3>"
   ]
  },
  {
   "cell_type": "markdown",
   "metadata": {},
   "source": [
    "<div>Here is the program that was used to gather the data for the analysis in Part 1. It loops though an open dataset using Python's ThreadPoolExecutor to run asyncronously. While it isn't a true multi-threaded progam, it does perform many tasks that benefit from asycronous operation, such as http requests and writing and reading files. Tests showed an average of 60% reduction in run time due to running asyncronously.</div>\n",
    "<div>One example of a page it uses can be found <a href='http://navigatela.lacity.org/navigatela/reports/dot_traffic_data_report.cfm?trafficid=240' target='_blank'>here</a>. If you click a few of the links, you'll notice the reports come in several different formats. Files in a format like <a href='https://navigatela.lacity.org/dot/traffic_data/automatic_counts/ALVARADO.WILSHIRE.180529-AUTO.pdf' target='_blank'>this</a> seemed both abundant and from a time period the could still be considered relevant since most were created within the last ten years. Also, urls from the \"Manual Counts\" section were not targeted, only automatic counts were used because the data and format was much more consistent. </div>\n",
    "<div>The PyPDF4 module is used to read the pdf file's text to determine whether it's in a usable format. If a report in the correct format was found, an IntersectionTrafficVolume object is instantiated and hydrated by searching the pdf text for relavant values. Then a Tabula module converts the pdf file to a Pandas dataframe and gather the traffic volumes by time and direction. The object is then converted to a dictionary and stored in a MongoDB database. A global variable that tracks how many records were created, and timing how long it took to complete were used to determine performance of the program. The count variable required locking in order to be accurate. Of the approximate 10K rows, about 4600 pdf files were found and parsed.</div>"
   ]
  },
  {
   "cell_type": "code",
   "execution_count": null,
   "metadata": {},
   "outputs": [],
   "source": [
    "import re\n",
    "import pandas as pd\n",
    "import pymongo\n",
    "import PyPDF4\n",
    "import tabula\n",
    "import requests\n",
    "import time\n",
    "import concurrent.futures\n",
    "import threading\n",
    "\n",
    "class IntersectionTrafficVolume:\n",
    "    def __int__(self):\n",
    "        self.IntersectionId = None\n",
    "        self.Intersection = None\n",
    "        self.SourceUrl = None\n",
    "        self.Location = None\n",
    "        self.Latitude = None\n",
    "        self.Longitude = None\n",
    "        self.Date = None\n",
    "        self.DayOfWeek = None\n",
    "        self.Direction = None\n",
    "        self.DotDistrict = None\n",
    "        self.Weather = None\n",
    "        self.Counter = None\n",
    "        self.PreparedBy = None\n",
    "        self.CounterMode = None\n",
    "        self.SerialNumber = None\n",
    "        self.Total = None\n",
    "        self.TotalNorthOrWest = None\n",
    "        self.TotalSouthOrEast = None\n",
    "        self.TotalsByTimeOfDay = None\n",
    "\n",
    "class TrafficVolumeByTime:\n",
    "    def __int__(self):\n",
    "        self.Time = None\n",
    "        self.NorthOrWestTotal = None\n",
    "        self.SouthOrEastTotal = None\n",
    "\n",
    "class pdfScraper:\n",
    "    def __int__(self):\n",
    "        self.RowData = None\n",
    "        self.RowNum = None\n",
    "        self.UrlHtml = None\n",
    "        self.PdfUrls = None\n",
    "        self.PdfTexts = None\n",
    "        self.Report = None\n",
    "\n",
    "    def scrape(self):\n",
    "        response = requests.get(self.RowData.NLA_URL)\n",
    "        if (hasattr(response, 'text') and response.text.find('Automatic Count (PDF)') > 0):\n",
    "            self.UrlHtml = response.text\n",
    "            self.PdfUrls = self.get_pdf_urls()\n",
    "            if (len(self.PdfUrls) > 0):\n",
    "                self.get_pdfs()\n",
    "                if (len(self.PdfTexts) > 0):\n",
    "                    self.processPdfs()\n",
    "\n",
    "    def get_pdf_urls(self):\n",
    "        # try to get only automatic reports\n",
    "        start = self.UrlHtml.index('Automatic Count (PDF)')\n",
    "        stop = self.UrlHtml.index('Manual Count (PDF)') if start < self.UrlHtml.index('Manual Count (PDF)') else len(self.UrlHtml)\n",
    "        searchText = ''\n",
    "        if (start < stop):\n",
    "            searchText = self.UrlHtml[start:stop]\n",
    "        else:\n",
    "            searchText = self.UrlHtml[start:]\n",
    "        urls = re.findall(r'href=[\\'\"]?([^\\'\">]+)', searchText)\n",
    "        return urls\n",
    "\n",
    "    def get_pdfs(self):\n",
    "        texts = []\n",
    "        docIdx = 0\n",
    "        for pdfUrl in self.PdfUrls:\n",
    "            try:\n",
    "                pdfResp = requests.get(pdfUrl, stream=True)\n",
    "                text = self.get_pdf_text(pdfResp.content, docIdx)\n",
    "                if (text.find('NORTHBOUND or WESTBOUND') >= 0):\n",
    "                    texts.append([text, docIdx])\n",
    "            except Exception as e:\n",
    "                print(\"Error getting pdf stream at \" + pdfUrl)\n",
    "                print(e)\n",
    "            finally:\n",
    "                docIdx = docIdx + 1\n",
    "        self.PdfTexts = texts\n",
    "\n",
    "    def get_pdf_text(self, stream, ct):\n",
    "        pageText = \"\";\n",
    "        with open(\"traffic_\" + str(self.RowData.IntersectionID) + \"_\" + str(ct) + \".pdf\", 'wb') as f:\n",
    "            f.write(stream)\n",
    "            pdfFileObj = open(\"traffic_\" + str(self.RowData.IntersectionID) + \"_\" + str(ct) + \".pdf\", 'rb')\n",
    "            reader = PyPDF4.PdfFileReader(pdfFileObj)\n",
    "            page = reader.getPage(0)\n",
    "            pageText = page.extractText()\n",
    "        return pageText\n",
    "\n",
    "    def processPdfs(self):\n",
    "        for pdfText in self.PdfTexts:\n",
    "            docText = pdfText[0]\n",
    "            docIndex = pdfText[1]\n",
    "            self.Report = IntersectionTrafficVolume()\n",
    "            self.Report.IntersectionId = int(self.RowData.IntersectionID)\n",
    "            self.Report.SourceUrl = self.RowData.NLA_URL\n",
    "            self.Report.Latitude = self.RowData.lat\n",
    "            self.Report.Longitude = self.RowData.lon\n",
    "            self.Report.Intersection = self.get_value_from_pdf_text(docText, \"Location\\n\", \"\\n\")\n",
    "            self.Report.Date = self.get_value_from_pdf_text(docText, \"Date\\n\", \"\\n\")\n",
    "            self.Report.DayOfWeek = self.get_value_from_pdf_text(docText, \"Day of Week\\n\", \"\\n\")\n",
    "            self.Report.Direction = self.get_value_from_pdf_text(docText, \"Direction\\n\", \"\\n\")\n",
    "            self.Report.DotDistrict = self.get_value_from_pdf_text(docText, \"DOT District\\n\", \"\\n\")\n",
    "            self.Report.Weather = self.get_value_from_pdf_text(docText, \"Weather\\n\", \"\\n\")\n",
    "            self.Report.Counter = self.get_value_from_pdf_text(docText, \"Counter\\n\", \"\\n\")\n",
    "            self.Report.PreparedBy = self.get_value_from_pdf_text(docText, \"By\\n\", \"\\n\")\n",
    "            self.Report.CounterMode = self.get_value_from_pdf_text(docText, \"Counter Mode\\n\", \"\\n\")\n",
    "            self.Report.SerialNumber = self.get_value_from_pdf_text(docText, \"Serial Number\\n\", \"\\n\")\n",
    "            try:\n",
    "                print(\"Try getting time records for \" + str(self.RowNum))\n",
    "                volumeByTimeReports = self.build_volume_by_time_reports(docIndex)\n",
    "                self.Report.TotalsByTimeOfDay = volumeByTimeReports[0]\n",
    "                self.Report.TotalNorthOrWest = volumeByTimeReports[1]\n",
    "                self.Report.TotalSouthOrEast = volumeByTimeReports[2]\n",
    "            except Exception as e:\n",
    "                print(\"Error occurred getting time records for \" + str(self.RowNum) + \". Error: \")\n",
    "                print(e)\n",
    "            self.save_report()\n",
    "            with lock:\n",
    "                global reportCount\n",
    "                reportCount += 1        \n",
    "\n",
    "    def get_value_from_pdf_text(self, strng, label, stopVal):\n",
    "        start = strng.find(label) + len(label)\n",
    "        if (start >= 0):\n",
    "            stop = strng[start:].find(stopVal)\n",
    "            return strng[start:start + stop]\n",
    "        else:\n",
    "            return None\n",
    "\n",
    "    def build_volume_by_time_reports(self, docIndex):\n",
    "        reports = []\n",
    "        nwTotal = 0\n",
    "        seTotal = 0\n",
    "        pdf_df = tabula.read_pdf(\"traffic_\" + str(self.RowData.IntersectionID) + \"_\" + str(docIndex) + \".pdf\", pages=1)\n",
    "        for index, timeRow in pdf_df[0].iloc[2:].iterrows():\n",
    "            volume = TrafficVolumeByTime()\n",
    "            volume.Time = timeRow.iloc[0]\n",
    "            nw = timeRow.iloc[2].split(' ')\n",
    "            if (len(nw) > 0):\n",
    "                if (nw[-1].isdigit()):\n",
    "                    nwRowTot = int(nw[-1])\n",
    "                    volume.NorthOrWestTotal = nwRowTot\n",
    "                    nwTotal += nwRowTot\n",
    "            se = timeRow.iloc[4].split(' ')\n",
    "            if (len(se) > 0):\n",
    "                if (se[-1].isdigit()):\n",
    "                    seRowTot = int(se[-1])\n",
    "                    volume.SouthOrEastTotal = seRowTot\n",
    "                    seTotal += seRowTot\n",
    "            reports.append(volume)\n",
    "        return [reports, nwTotal, seTotal]\n",
    "\n",
    "    def save_report(self):\n",
    "        dict = vars(self.Report)\n",
    "        volDict = []\n",
    "        for vol in self.Report.TotalsByTimeOfDay:\n",
    "            volDict.append(vars(vol))\n",
    "        dict[\"TotalsByTimeOfDay\"] = volDict\n",
    "        collection.insert_one(dict)\n",
    "\n",
    "def process_intersection_row(row):\n",
    "    scraper = pdfScraper()\n",
    "    scraper.RowNum = row[0]\n",
    "    scraper.RowData = row[1]\n",
    "    print(\"Row num \" + str(scraper.RowNum))\n",
    "    scraper.scrape()\n",
    "\n",
    "if __name__ == \"__main__\":\n",
    "    client = pymongo.MongoClient()\n",
    "    db = client[\"TrafficData\"]\n",
    "    collection = db[\"IntersectionTrafficVolumes\"]\n",
    "    df = pd.read_csv(\"Traffic_Data_Geoloc_tidy.csv\")\n",
    "    start = time.time()\n",
    "    lock = threading.Lock()\n",
    "    reportCount = 0\n",
    "    with concurrent.futures.ThreadPoolExecutor(max_workers=4) as executor:\n",
    "        executor.map(process_intersection_row, df.iterrows())\n",
    "    end = time.time()\n",
    "    print(end - start)\n",
    "    print(\"Reports count: \" + (str(reportCount)))\n",
    "\n",
    "\n",
    "\n"
   ]
  }
 ],
 "metadata": {
  "kernelspec": {
   "display_name": "Python 3",
   "language": "python",
   "name": "python3"
  },
  "language_info": {
   "codemirror_mode": {
    "name": "ipython",
    "version": 3
   },
   "file_extension": ".py",
   "mimetype": "text/x-python",
   "name": "python",
   "nbconvert_exporter": "python",
   "pygments_lexer": "ipython3",
   "version": "3.8.1"
  }
 },
 "nbformat": 4,
 "nbformat_minor": 4
}
